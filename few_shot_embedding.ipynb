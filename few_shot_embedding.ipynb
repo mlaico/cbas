{
 "cells": [
  {
   "cell_type": "code",
   "execution_count": 1,
   "metadata": {},
   "outputs": [],
   "source": [
    "%matplotlib inline\n",
    "import sys\n",
    "sys.path.append('../PythonAPI')\n",
    "import torch\n",
    "import torchvision\n",
    "import torchvision.transforms as transforms\n",
    "import numpy as np\n",
    "from cbas import CBAS\n",
    "from pycocotools.coco import COCO\n",
    "from pycocotools.cbas import CBAS\n",
    "import cbas_construction_utils as ccu\n",
    "import sklearn as sk"
   ]
  },
  {
   "cell_type": "markdown",
   "metadata": {},
   "source": [
    "### Load COCO"
   ]
  },
  {
   "cell_type": "code",
   "execution_count": 2,
   "metadata": {},
   "outputs": [
    {
     "name": "stdout",
     "output_type": "stream",
     "text": [
      "loading annotations into memory...\n",
      "Done (t=0.35s)\n",
      "creating index...\n",
      "index created!\n",
      "idToName:  80 {'1': 'person', '2': 'bicycle', '3': 'car', '4': 'motorcycle', '5': 'airplane', '6': 'bus', '7': 'train', '8': 'truck', '9': 'boat', '10': 'traffic light', '11': 'fire hydrant', '13': 'stop sign', '14': 'parking meter', '15': 'bench', '16': 'bird', '17': 'cat', '18': 'dog', '19': 'horse', '20': 'sheep', '21': 'cow', '22': 'elephant', '23': 'bear', '24': 'zebra', '25': 'giraffe', '27': 'backpack', '28': 'umbrella', '31': 'handbag', '32': 'tie', '33': 'suitcase', '34': 'frisbee', '35': 'skis', '36': 'snowboard', '37': 'sports ball', '38': 'kite', '39': 'baseball bat', '40': 'baseball glove', '41': 'skateboard', '42': 'surfboard', '43': 'tennis racket', '44': 'bottle', '46': 'wine glass', '47': 'cup', '48': 'fork', '49': 'knife', '50': 'spoon', '51': 'bowl', '52': 'banana', '53': 'apple', '54': 'sandwich', '55': 'orange', '56': 'broccoli', '57': 'carrot', '58': 'hot dog', '59': 'pizza', '60': 'donut', '61': 'cake', '62': 'chair', '63': 'couch', '64': 'potted plant', '65': 'bed', '67': 'dining table', '70': 'toilet', '72': 'tv', '73': 'laptop', '74': 'mouse', '75': 'remote', '76': 'keyboard', '77': 'cell phone', '78': 'microwave', '79': 'oven', '80': 'toaster', '81': 'sink', '82': 'refrigerator', '84': 'book', '85': 'clock', '86': 'vase', '87': 'scissors', '88': 'teddy bear', '89': 'hair drier', '90': 'toothbrush'}\n"
     ]
    }
   ],
   "source": [
    "# initialize COCO api for instance annotations and category info\n",
    "cbas80=CBAS('../annotations/{}.json'.format('cbas80'))\n",
    "\n",
    "# Get category index so we can go from image ids to category names\n",
    "idToName={}\n",
    "for c in cbas80.dataset['categories']:\n",
    "    idToName[str(c['id'])]=c['name']\n",
    "\n",
    "print(\"idToName: \", len(idToName.items()), idToName)\n",
    "# base set is cbas34, and holdout set is cbas80-cbas34\n",
    "# holdout is cbas80 - cbas34"
   ]
  },
  {
   "cell_type": "markdown",
   "metadata": {},
   "source": [
    "### Load cbas_34 base and holdout (AKA \"target\" classes) sets: "
   ]
  },
  {
   "cell_type": "code",
   "execution_count": 5,
   "metadata": {},
   "outputs": [],
   "source": [
    "IMAGENET_MEAN = [0.485, 0.456, 0.406]\n",
    "IMAGENET_STD = [0.229, 0.224, 0.225]\n",
    "\n",
    "transform = transforms.Compose([\n",
    "#     transforms.Resize((224, 224)),\n",
    "    transforms.ToTensor(),\n",
    "    transforms.Normalize(mean=IMAGENET_MEAN, std=IMAGENET_STD)\n",
    "])\n",
    "\n",
    "base_train = torchvision.datasets.ImageFolder(root='../images/cbas34_train', transform=transform)\n",
    "base_train_loader = torch.utils.data.DataLoader(base_train, batch_size=4, shuffle=True, num_workers=4)\n",
    "\n",
    "base_valid = torchvision.datasets.ImageFolder(root='../images/cbas34_val', transform=transform)\n",
    "base_valid_loader = torch.utils.data.DataLoader(base_valid, batch_size=4, shuffle=False, num_workers=2)\n",
    "\n",
    "# get index for curriculum sampling\n",
    "id2idx = {}\n",
    "for i,img in enumerate(base_train.imgs):\n",
    "    img_id_str = img[0].split('/')[4].split('.')[0]\n",
    "    id2idx[img_id_str] = i\n"
   ]
  },
  {
   "cell_type": "code",
   "execution_count": 6,
   "metadata": {},
   "outputs": [
    {
     "name": "stdout",
     "output_type": "stream",
     "text": [
      "dict_keys(['root', 'imgs', 'classes', 'class_to_idx', 'transform', 'target_transform', 'loader'])\n",
      "('../images/cbas34_train/airplane/1363089.jpg', 0)\n",
      "Base classes (34 total): \n",
      "['airplane', 'backpack', 'banana', 'bench', 'bicycle', 'bird', 'boat', 'book', 'bottle', 'bowl', 'car', 'carrot', 'chair', 'clock', 'cow', 'cup', 'donut', 'fork', 'handbag', 'horse', 'kite', 'knife', 'person', 'pottedplant', 'sheep', 'sink', 'skateboard', 'spoon', 'surfboard', 'tennisracket', 'trafficlight', 'truck', 'umbrella', 'vase']\n",
      "base_train size:  51000\n",
      "steps per epoch:  12750\n"
     ]
    }
   ],
   "source": [
    "print(base_train.__dict__.keys())\n",
    "print(base_train.imgs[3])\n",
    "print(\"Base classes ({} total): \".format(len(base_train.classes)))\n",
    "print(base_train.classes)\n",
    "\n",
    "print(\"base_train size: \", base_train.__len__())\n",
    "print(\"steps per epoch: \", int(base_train.__len__() / 4))"
   ]
  },
  {
   "cell_type": "code",
   "execution_count": null,
   "metadata": {},
   "outputs": [],
   "source": []
  },
  {
   "cell_type": "markdown",
   "metadata": {},
   "source": [
    "### Find the holdout categories: "
   ]
  },
  {
   "cell_type": "code",
   "execution_count": 7,
   "metadata": {},
   "outputs": [],
   "source": [
    "# all_categories = COCO.loadCats(COCO.getCatIds())\n",
    "# nms=[cat['name'] for cat in all_categories]\n",
    "# print('COCO categories: \\n{}\\n'.format(' '.join(nms)))\n",
    "\n",
    "# Get all categories: \n"
   ]
  },
  {
   "cell_type": "markdown",
   "metadata": {},
   "source": [
    "### Train network that learns to predict images from base_set: "
   ]
  },
  {
   "cell_type": "code",
   "execution_count": 8,
   "metadata": {},
   "outputs": [],
   "source": [
    "import torch.nn as nn\n",
    "\n",
    "__all__ = ['alexnet3232']\n",
    "\n",
    "\n",
    "class AlexNet3232(nn.Module):\n",
    "\n",
    "    def __init__(self, num_classes=34):\n",
    "        super(AlexNet3232, self).__init__()\n",
    "        self.features = nn.Sequential(\n",
    "            nn.Conv2d(3, 64, kernel_size=11, stride=4, padding=5),\n",
    "            nn.ReLU(inplace=True),\n",
    "            nn.MaxPool2d(kernel_size=2, stride=2),\n",
    "            nn.Conv2d(64, 192, kernel_size=5, padding=2),\n",
    "            nn.ReLU(inplace=True),\n",
    "            nn.MaxPool2d(kernel_size=2, stride=2),\n",
    "            nn.Conv2d(192, 384, kernel_size=3, padding=1),\n",
    "            nn.ReLU(inplace=True),\n",
    "            nn.Conv2d(384, 256, kernel_size=3, padding=1),\n",
    "            nn.ReLU(inplace=True),\n",
    "            nn.Conv2d(256, 256, kernel_size=3, padding=1),\n",
    "            nn.ReLU(inplace=True),\n",
    "            nn.MaxPool2d(kernel_size=2, stride=2),\n",
    "        )\n",
    "        self.classifier = nn.Linear(256, num_classes)\n",
    "\n",
    "    def forward(self, x):\n",
    "        x = self.features(x)\n",
    "        x = x.view(x.size(0), -1)\n",
    "        x = self.classifier(x)\n",
    "        return x\n",
    "\n",
    "\n",
    "def alexnet3232(**kwargs):\n",
    "    r\"\"\"AlexNet model architecture from the\n",
    "    `\"One weird trick...\" <https://arxiv.org/abs/1404.5997>`_ paper.\n",
    "    \"\"\"\n",
    "    model = AlexNet(**kwargs)\n",
    "    return model"
   ]
  },
  {
   "cell_type": "code",
   "execution_count": 9,
   "metadata": {},
   "outputs": [],
   "source": [
    "from torch.autograd import Variable\n",
    "import torch.nn as nn\n",
    "import torch.nn.functional as F\n",
    "import torchvision.models as models\n",
    "\n",
    "# num_classes_base = 34\n",
    "# num_classes_holdout = 34\n",
    "\n",
    "# Load model\n",
    "class LeNet(nn.Module):\n",
    "    def __init__(self):\n",
    "        super(LeNet, self).__init__()\n",
    "        self.conv1 = nn.Conv2d(3, 6, 5)\n",
    "        self.conv2 = nn.Conv2d(6, 16, 5)\n",
    "        self.fc1   = nn.Linear(16*5*5, 120)\n",
    "        self.fc2   = nn.Linear(120, 84)\n",
    "        self.fc3   = nn.Linear(84, 34)\n",
    "\n",
    "    def forward(self, x):\n",
    "        out = F.relu(self.conv1(x))\n",
    "        out = F.max_pool2d(out, 2)\n",
    "        out = F.relu(self.conv2(out))\n",
    "        out = F.max_pool2d(out, 2)\n",
    "        out = out.view(out.size(0), -1)\n",
    "        out = F.relu(self.fc1(out))\n",
    "        out = F.relu(self.fc2(out))\n",
    "        out = self.fc3(out)\n",
    "        return out\n",
    "\n",
    "\n",
    "# model = LeNet()\n",
    "model = AlexNet3232()"
   ]
  },
  {
   "cell_type": "code",
   "execution_count": 10,
   "metadata": {},
   "outputs": [],
   "source": [
    "import torch.optim as optim\n",
    "\n",
    "criterion = nn.CrossEntropyLoss()\n",
    "optimizer = optim.SGD(model.parameters(), lr=0.001, momentum=0.9)"
   ]
  },
  {
   "cell_type": "code",
   "execution_count": 11,
   "metadata": {},
   "outputs": [],
   "source": [
    "# epochs = 20\n",
    "# print_every = 100\n",
    "# steps_per_epoch = int(base_train.__len__() / 4)\n",
    "\n",
    "# for epoch in range(epochs):  # loop over the dataset multiple times\n",
    "\n",
    "#     running_loss = 0.0\n",
    "#     for i, data in enumerate(base_train_loader, 0):\n",
    "#         # get the inputs\n",
    "#         inputs, labels = data\n",
    "\n",
    "#         # wrap them in Variable\n",
    "#         inputs, labels = Variable(inputs), Variable(labels)\n",
    "\n",
    "#         # zero the parameter gradients\n",
    "#         optimizer.zero_grad()\n",
    "\n",
    "#         # forward + backward + optimize\n",
    "#         outputs = model(inputs)\n",
    "#         loss = criterion(outputs, labels)\n",
    "#         loss.backward()\n",
    "#         optimizer.step()\n",
    "\n",
    "#         # print statistics\n",
    "#         running_loss += loss.data[0]\n",
    "#         if i % print_every == (print_every-1):    # print every 2000 mini-batches\n",
    "#             print('epoch[%d/%d, %5d/%d], loss: %.3f' %\n",
    "#                   (epoch + 1, epochs, i + 1, steps_per_epoch, running_loss / print_every))\n",
    "#             running_loss = 0.0\n",
    "\n",
    "# print('Finished Training')"
   ]
  },
  {
   "cell_type": "code",
   "execution_count": 12,
   "metadata": {},
   "outputs": [],
   "source": [
    "import os \n",
    "\n",
    "# Save model trained on cbas-LS base set:\n",
    "weights_dir = './weights/'\n",
    "if not os.path.exists(weights_dir):\n",
    "    os.makedirs(weights_dir)\n",
    "# torch.save(model, os.path.join(weights_dir, 'alexnet_cbas34_baseset_20_epochs.pt'))"
   ]
  },
  {
   "cell_type": "code",
   "execution_count": 13,
   "metadata": {},
   "outputs": [],
   "source": [
    "import numpy as np \n",
    "from PIL import Image\n",
    "\n",
    "class FeatureExtractor(object):\n",
    "    \n",
    "    def __init__(self, model=None, embed_layer=None, embed_size=256, transform=None):\n",
    "        self.embed_size = embed_size\n",
    "        self.transforms = transform\n",
    "        \n",
    "        if model is None: \n",
    "            self.model = models.alexnet(pretrained=True)\n",
    "            self.embed_layer = self.model.features\n",
    "        else: \n",
    "            if embed_layer is None: \n",
    "                raise ValueError(\"Need to specify embed_layer if you pass in a model to FeatureExtractor!\")\n",
    "            self.model = model\n",
    "            self.embed_layer = embed_layer\n",
    "        \n",
    "        self.cuda = torch.cuda.is_available()\n",
    "        if self.cuda:\n",
    "            self.model.cuda()\n",
    "            \n",
    "        # Set model to eval mode so any train-specific things like dropout, etc. don't run:\n",
    "        self.model.eval()\n",
    "    \n",
    "    def embed(self, img):\n",
    "        \"\"\"\n",
    "        project a PIL image into embedded feature space, and return that vector as an np array\n",
    "        \"\"\"\n",
    "        a = self.transforms(img)\n",
    "        image = Variable(a)\n",
    "        image = image.unsqueeze(0)\n",
    "        if self.cuda: image.cuda()\n",
    "        \n",
    "        embedding = torch.zeros(self.embed_size)\n",
    "        def copy_embedding(m, i, o):\n",
    "            if len(o.size()) > 2:\n",
    "                o = o.view(o.size(0), -1)\n",
    "            embedding.copy_(o.data)\n",
    "            \n",
    "        h = self.embed_layer.register_forward_hook(copy_embedding)\n",
    "        h_x = self.model(image)\n",
    "        h.remove()\n",
    "        return embedding.numpy()"
   ]
  },
  {
   "cell_type": "code",
   "execution_count": 14,
   "metadata": {},
   "outputs": [],
   "source": [
    "import os \n",
    "\n",
    "# Load model pre-trained on cbas-LS base set: \n",
    "weights_dir = './weights/'\n",
    "if not os.path.exists(weights_dir):\n",
    "    os.makedirs(weights_dir)\n",
    "\n",
    "model = torch.load(os.path.join(weights_dir, 'alexnet_cbas34_baseset_20_epochs.pt'))"
   ]
  },
  {
   "cell_type": "code",
   "execution_count": 15,
   "metadata": {},
   "outputs": [],
   "source": [
    "embedder = FeatureExtractor(model=model, transform=transform, embed_layer=model.features)"
   ]
  },
  {
   "cell_type": "code",
   "execution_count": 16,
   "metadata": {},
   "outputs": [
    {
     "name": "stdout",
     "output_type": "stream",
     "text": [
      "(256,) [ 0.          0.          0.          0.21962775  1.69603479  0.          0.\n",
      "  0.04539941  4.62165022  0.          0.          0.          0.          0.\n",
      "  0.          0.          0.          0.          0.          0.          0.\n",
      "  0.          0.          0.          0.          0.19562031  0.\n",
      "  1.13748956  0.          0.          0.52092582  0.          1.02101254\n",
      "  0.04542714  0.83863664  0.          0.          0.          0.06142612\n",
      "  0.          0.          0.          0.          0.          0.          0.\n",
      "  0.          0.          2.1127789   0.          2.32432532  0.          0.\n",
      "  0.85070014  0.          4.21610785  0.          0.35894951  1.11421156\n",
      "  0.          0.22727358  0.          0.          0.          0.\n",
      "  1.37570739  5.07413292  0.          0.          0.          0.\n",
      "  0.20261103  0.          0.          0.          0.          0.          0.\n",
      "  0.4270733   0.          0.          0.          0.          0.          0.\n",
      "  0.          1.55296087  2.93087673  0.          0.          0.          0.\n",
      "  0.          0.          0.          0.          0.          0.\n",
      "  4.61847115  0.          0.          3.91275668  1.99888921  0.          0.\n",
      "  0.99667811  0.          0.          0.          0.73760736  0.\n",
      "  0.33669043  0.          0.          0.6333853   0.          0.46135652\n",
      "  0.          0.          0.          0.          4.9196806   0.          0.\n",
      "  0.          0.          1.80796576  0.          0.          0.          0.\n",
      "  0.          0.          0.          0.          0.40586296  0.          0.\n",
      "  0.          0.          0.17356473  2.41642857  0.          0.          0.\n",
      "  0.          0.          0.          0.          0.          0.\n",
      "  1.46438134  0.          0.          0.          0.          0.          0.\n",
      "  2.20847154  0.          0.47675136  0.          0.          0.          0.\n",
      "  0.          0.          0.          2.43310356  0.          0.          0.\n",
      "  0.          0.          0.39142278  0.          0.          0.\n",
      "  2.52574253  3.30952334  0.          0.          0.          0.\n",
      "  0.96822321  0.          0.          1.95815492  0.          0.10339299\n",
      "  0.89896148  1.22973824  0.          0.          0.          1.4535079   0.\n",
      "  0.          0.          1.09513116  0.          0.          0.          0.\n",
      "  0.          0.          0.          0.          0.02433346  0.          0.\n",
      "  0.          0.          0.          1.26590943  0.          0.          0.\n",
      "  0.          0.          0.          0.          2.79403973  0.          0.\n",
      "  0.          0.83185112  1.74929261  0.53903413  0.17172888  0.          0.\n",
      "  0.          0.          0.          0.06011082  0.          0.51252759\n",
      "  0.          0.8396138   8.48531723  0.4879306   5.27884388  0.          0.\n",
      "  0.          0.          0.          0.          0.          0.          0.\n",
      "  0.54585981  0.          0.          0.        ]\n",
      "(256,) [ 0.          0.06944159  0.04688001  0.          0.          0.\n",
      "  0.49427998  0.          0.06111926  0.76753867  0.          0.          0.\n",
      "  2.14533401  0.          0.          0.          0.          0.          0.\n",
      "  0.04299104  1.50813556  0.          0.          0.          0.\n",
      "  0.09545014  0.          0.          0.          0.35078794  0.          0.\n",
      "  0.2629492   0.          1.20284033  0.          0.          0.          0.\n",
      "  0.          0.          0.          0.          0.          0.\n",
      "  0.79539317  0.          1.43833494  0.          0.          0.          0.\n",
      "  0.          0.          0.          0.          0.10769743  0.          0.\n",
      "  0.          0.          0.          0.          0.          0.          0.\n",
      "  1.73127627  0.          0.68131685  0.          0.          0.\n",
      "  2.70743752  0.          0.95346332  0.          0.          0.          0.\n",
      "  0.18792249  0.50709039  0.          0.          0.          0.          0.\n",
      "  0.          0.          0.          0.          0.          1.69356966\n",
      "  0.          0.          0.          0.          0.12554468  0.          0.\n",
      "  0.          0.59815443  0.          2.47653842  0.0311394   0.          0.\n",
      "  0.          0.19440523  0.          0.          0.          0.\n",
      "  0.62897956  0.          0.          1.84887862  0.          0.\n",
      "  0.55799651  0.          0.87595749  0.93093872  0.06111602  0.          0.\n",
      "  2.57517552  0.          0.          0.          2.0086503   0.56444573\n",
      "  1.87680948  0.11436766  0.          0.          0.          0.69274318\n",
      "  0.          0.          0.77647436  0.42906213  0.73558772  0.          0.\n",
      "  0.          0.          0.          0.          0.          0.          0.\n",
      "  0.47421938  0.          0.          0.          0.          0.          0.\n",
      "  0.          0.          0.          0.          0.95536232  0.          0.\n",
      "  0.          0.          0.          0.          0.30812019  0.          0.\n",
      "  0.          0.          2.98434353  0.          0.          0.          0.\n",
      "  0.          0.          0.43587166  0.          0.26947111  0.\n",
      "  0.80106139  0.          0.81468314  0.47767431  0.26421195  0.38280973\n",
      "  0.94388425  0.          0.59460044  0.12491196  0.          0.          0.\n",
      "  0.45788419  0.          0.          0.5232482   0.0050357   0.\n",
      "  1.21432889  0.          0.          2.10413766  0.          0.          0.\n",
      "  0.          0.          0.          0.          3.72416568  0.5499931   0.\n",
      "  0.36216837  0.          0.          0.          0.          0.47121876\n",
      "  0.          0.          0.          0.          0.          0.\n",
      "  2.44375348  0.79056215  0.          0.          0.          0.          0.\n",
      "  0.          0.          0.          0.          0.          0.\n",
      "  0.24995826  0.86830586  0.          0.          0.          0.          0.\n",
      "  0.          0.          0.01922989  0.          0.20397142]\n"
     ]
    },
    {
     "name": "stderr",
     "output_type": "stream",
     "text": [
      "/home/gbiamby/anaconda3/lib/python3.6/site-packages/ipykernel_launcher.py:39: UserWarning: src is not broadcastable to dst, but they have the same number of elements.  Falling back to deprecated pointwise behavior.\n",
      "Process Process-4:\n",
      "Process Process-2:\n",
      "Traceback (most recent call last):\n",
      "Traceback (most recent call last):\n",
      "  File \"/home/gbiamby/anaconda3/lib/python3.6/multiprocessing/process.py\", line 258, in _bootstrap\n",
      "    self.run()\n",
      "  File \"/home/gbiamby/anaconda3/lib/python3.6/multiprocessing/process.py\", line 93, in run\n",
      "    self._target(*self._args, **self._kwargs)\n",
      "Process Process-1:\n",
      "  File \"/home/gbiamby/anaconda3/lib/python3.6/site-packages/torch/utils/data/dataloader.py\", line 36, in _worker_loop\n",
      "    r = index_queue.get()\n",
      "Traceback (most recent call last):\n",
      "Process Process-3:\n",
      "  File \"/home/gbiamby/anaconda3/lib/python3.6/multiprocessing/process.py\", line 258, in _bootstrap\n",
      "    self.run()\n",
      "  File \"/home/gbiamby/anaconda3/lib/python3.6/multiprocessing/process.py\", line 93, in run\n",
      "    self._target(*self._args, **self._kwargs)\n",
      "Traceback (most recent call last):\n",
      "  File \"/home/gbiamby/anaconda3/lib/python3.6/multiprocessing/process.py\", line 258, in _bootstrap\n",
      "    self.run()\n",
      "  File \"/home/gbiamby/anaconda3/lib/python3.6/multiprocessing/process.py\", line 93, in run\n",
      "    self._target(*self._args, **self._kwargs)\n",
      "  File \"/home/gbiamby/anaconda3/lib/python3.6/site-packages/torch/utils/data/dataloader.py\", line 36, in _worker_loop\n",
      "    r = index_queue.get()\n",
      "  File \"/home/gbiamby/anaconda3/lib/python3.6/multiprocessing/process.py\", line 258, in _bootstrap\n",
      "    self.run()\n",
      "  File \"/home/gbiamby/anaconda3/lib/python3.6/multiprocessing/process.py\", line 93, in run\n",
      "    self._target(*self._args, **self._kwargs)\n",
      "  File \"/home/gbiamby/anaconda3/lib/python3.6/multiprocessing/queues.py\", line 334, in get\n",
      "    with self._rlock:\n",
      "  File \"/home/gbiamby/anaconda3/lib/python3.6/site-packages/torch/utils/data/dataloader.py\", line 36, in _worker_loop\n",
      "    r = index_queue.get()\n",
      "  File \"/home/gbiamby/anaconda3/lib/python3.6/multiprocessing/queues.py\", line 334, in get\n",
      "    with self._rlock:\n",
      "  File \"/home/gbiamby/anaconda3/lib/python3.6/multiprocessing/synchronize.py\", line 96, in __enter__\n",
      "    return self._semlock.__enter__()\n",
      "  File \"/home/gbiamby/anaconda3/lib/python3.6/multiprocessing/queues.py\", line 335, in get\n",
      "    res = self._reader.recv_bytes()\n",
      "KeyboardInterrupt\n",
      "  File \"/home/gbiamby/anaconda3/lib/python3.6/site-packages/torch/utils/data/dataloader.py\", line 36, in _worker_loop\n",
      "    r = index_queue.get()\n",
      "  File \"/home/gbiamby/anaconda3/lib/python3.6/multiprocessing/synchronize.py\", line 96, in __enter__\n",
      "    return self._semlock.__enter__()\n",
      "KeyboardInterrupt\n",
      "  File \"/home/gbiamby/anaconda3/lib/python3.6/multiprocessing/queues.py\", line 334, in get\n",
      "    with self._rlock:\n",
      "  File \"/home/gbiamby/anaconda3/lib/python3.6/multiprocessing/synchronize.py\", line 96, in __enter__\n",
      "    return self._semlock.__enter__()\n",
      "  File \"/home/gbiamby/anaconda3/lib/python3.6/multiprocessing/connection.py\", line 216, in recv_bytes\n",
      "    buf = self._recv_bytes(maxlength)\n",
      "KeyboardInterrupt\n",
      "  File \"/home/gbiamby/anaconda3/lib/python3.6/multiprocessing/connection.py\", line 407, in _recv_bytes\n",
      "    buf = self._recv(4)\n",
      "  File \"/home/gbiamby/anaconda3/lib/python3.6/multiprocessing/connection.py\", line 379, in _recv\n",
      "    chunk = read(handle, remaining)\n",
      "KeyboardInterrupt\n"
     ]
    }
   ],
   "source": [
    "\n",
    "# get some random training images\n",
    "dataiter = iter(base_train_loader)\n",
    "images, labels = dataiter.next()\n",
    "\n",
    "# Test embedding a couple of images. For Alexnet (32x32 images) this should be a 256-d vector: \n",
    "img = Image.open('../images/cbas34_train/airplane/156356.jpg')\n",
    "emb = embedder.embed(img)\n",
    "print(emb.shape, emb)\n",
    "\n",
    "img = Image.open('../images/cbas34_train/cow/69943.jpg')\n",
    "emb = embedder.embed(img)\n",
    "print(emb.shape, emb)"
   ]
  },
  {
   "cell_type": "markdown",
   "metadata": {},
   "source": [
    "### Check Embedding Results\n",
    "Now let's compute cosine similarities for one airplane image against all airplanes, and then similarities for airplane against several other non-airplane categories. The average cosine similarity for airplane vs. airplane should be higher than that for airplane-vs-non-airplanes, if we are computing good embeddings. "
   ]
  },
  {
   "cell_type": "code",
   "execution_count": 39,
   "metadata": {},
   "outputs": [
    {
     "name": "stdout",
     "output_type": "stream",
     "text": [
      "Testing intra-category cosine similarities for category:  airplane\n"
     ]
    },
    {
     "name": "stderr",
     "output_type": "stream",
     "text": [
      "/home/gbiamby/anaconda3/lib/python3.6/site-packages/ipykernel_launcher.py:39: UserWarning: src is not broadcastable to dst, but they have the same number of elements.  Falling back to deprecated pointwise behavior.\n"
     ]
    },
    {
     "name": "stdout",
     "output_type": "stream",
     "text": [
      "average 'airplane' intra-category similarity: 0.40577869000807404\n",
      "\n",
      "Testing inter-category cosine similarities for 'airplane' vs 'cow'...\n",
      "average airplane cos-similarity vs 'cow': 0.14739956931676715\n",
      "\n",
      "Testing inter-category cosine similarities for 'airplane' vs 'banana'...\n",
      "average airplane cos-similarity vs 'banana': 0.11000944020226598\n",
      "\n",
      "Testing inter-category cosine similarities for 'airplane' vs 'sink'...\n",
      "average airplane cos-similarity vs 'sink': 0.14671501477624987\n",
      "\n",
      "Testing inter-category cosine similarities for 'airplane' vs 'carrot'...\n",
      "Hack: converting ../images/cbas34_train/airplane/156497.jpg to rgb...\n",
      "average airplane cos-similarity vs 'carrot': 0.09939418648509309\n",
      "\n",
      "Testing inter-category cosine similarities for 'airplane' vs 'umbrella'...\n",
      "Hack: converting ../images/cbas34_train/airplane/247539.jpg to rgb...\n",
      "average airplane cos-similarity vs 'umbrella': 0.1650637626306154\n",
      "\n"
     ]
    }
   ],
   "source": [
    "import glob \n",
    "from sklearn.metrics.pairwise import cosine_similarity\n",
    "np.random.seed(55)\n",
    "\n",
    "def get_cos_similarities(base_img_path, other_image_paths):\n",
    "    img = Image.open(base_img_path)\n",
    "    # Work arround issue of some of the train images not being RGB, (they won't go through the CNN): \n",
    "    if img.mode != \"RGB\":\n",
    "        print(\"Hack: converting {} to rgb...\".format(base_img_path))\n",
    "        rgbimg = Image.new(\"RGB\", img.size)\n",
    "        rgbimg.paste(img)\n",
    "        img = rgbimg\n",
    "    base_embedding = embedder.embed(img)\n",
    "    similarities = np.zeros((len(other_image_paths)))\n",
    "    \n",
    "    for idx,img_path in enumerate(other_image_paths):\n",
    "        #print(\"idx: \", idx, img_path)\n",
    "        embedding = None\n",
    "        img = Image.open(img_path)\n",
    "        try:\n",
    "            embedding = embedder.embed(img)\n",
    "        except:\n",
    "            print(\"error on image #\", idx)\n",
    "        if embedding is not None: \n",
    "#             cos_sim = cosine_similarity(base_embedding, embedding)\n",
    "            cos = nn.CosineSimilarity(dim=1, eps=1e-6)\n",
    "            cos_sim = cos(torch.Tensor(base_embedding).unsqueeze(0), torch.Tensor(embedding).unsqueeze(0))\n",
    "            similarities[idx] = cos_sim.numpy()\n",
    "    return similarities\n",
    "\n",
    "def avg_category_similarities(dataset_path, cat1, cat2, sample_size=50):\n",
    "    \"\"\"\n",
    "    Compute avereage similarities between all imgs in categories cat1 an cat2\n",
    "    \"\"\"\n",
    "    cat1_imgs = glob.glob(dataset_path.format(cat1)+'*.jpg')\n",
    "    cat2_imgs = glob.glob(dataset_path.format(cat2)+'*.jpg')\n",
    "    # Sample a limited size to reduce compute time: \n",
    "    size1, size2 = min(len(cat1_imgs), sample_size), min(len(cat2_imgs), sample_size)\n",
    "    cat1_imgs = np.random.choice(cat1_imgs, size=size1)\n",
    "    cat2_imgs = np.random.choice(cat2_imgs, size=size2)\n",
    "    sims = np.zeros((size1, size2))\n",
    "    #print(\"similarites shape: \", sims.shape)\n",
    "    for i,img1 in enumerate(cat1_imgs):\n",
    "        sims[i,:] = get_cos_similarities(img1, cat2_imgs).T\n",
    "        pass\n",
    "    return sims\n",
    "\n",
    "\n",
    "base_cat = \"airplane\"\n",
    "other_cats = [\"cow\", \"banana\", \"sink\", \"carrot\", \"umbrella\"]\n",
    "\n",
    "print(\"Testing intra-category cosine similarities for category: \", base_cat)\n",
    "intra_cat_sims = avg_category_similarities('../images/cbas34_train/{}/', base_cat, base_cat)\n",
    "print(\n",
    "    \"average '{}' intra-category similarity: {}\\n\".format(\n",
    "        base_cat\n",
    "        , np.average(intra_cat_sims)\n",
    "    ))\n",
    "\n",
    "for other_cat in other_cats: \n",
    "    print(\"Testing inter-category cosine similarities for '{}' vs '{}'...\"\\\n",
    "          .format(base_cat, other_cat))\n",
    "    inter_cat_sims = avg_category_similarities(\n",
    "        '../images/cbas34_train/{}/', base_cat, other_cat\n",
    "    )\n",
    "    print(\"average {} cos-similarity vs '{}': {}\\n\".format(\n",
    "        base_cat, other_cat, np.average(inter_cat_sims)\n",
    "    ))\n",
    "\n",
    "\n",
    "## NOTE: the error messages here are mostly due to some of the training \n",
    "## images in cbas-34 being 1 channel instead of 3. We should regenerate the \n",
    "## cbas set to be 3-channel to fix this. "
   ]
  },
  {
   "cell_type": "code",
   "execution_count": 40,
   "metadata": {},
   "outputs": [
    {
     "name": "stdout",
     "output_type": "stream",
     "text": [
      "Testing intra-category cosine similarities for category:  banana\n"
     ]
    },
    {
     "name": "stderr",
     "output_type": "stream",
     "text": [
      "/home/gbiamby/anaconda3/lib/python3.6/site-packages/ipykernel_launcher.py:39: UserWarning: src is not broadcastable to dst, but they have the same number of elements.  Falling back to deprecated pointwise behavior.\n"
     ]
    },
    {
     "name": "stdout",
     "output_type": "stream",
     "text": [
      "average 'banana' intra-category similarity: 0.46289090410619976\n",
      "\n",
      "Testing inter-category cosine similarities for 'banana' vs 'cow'...\n",
      "average banana cos-similarity vs 'cow': 0.1393634743908886\n",
      "\n",
      "Testing inter-category cosine similarities for 'banana' vs 'airplane'...\n",
      "average banana cos-similarity vs 'airplane': 0.09864027296435088\n",
      "\n",
      "Testing inter-category cosine similarities for 'banana' vs 'sink'...\n",
      "average banana cos-similarity vs 'sink': 0.17259873777907342\n",
      "\n",
      "Testing inter-category cosine similarities for 'banana' vs 'carrot'...\n",
      "average banana cos-similarity vs 'carrot': 0.22984664037674665\n",
      "\n",
      "Testing inter-category cosine similarities for 'banana' vs 'umbrella'...\n",
      "average banana cos-similarity vs 'umbrella': 0.16092501923255623\n",
      "\n"
     ]
    }
   ],
   "source": [
    "base_cat = \"banana\"\n",
    "other_cats = [\"cow\", \"airplane\", \"sink\", \"carrot\", \"umbrella\"]\n",
    "\n",
    "\n",
    "print(\"Testing intra-category cosine similarities for category: \", base_cat)\n",
    "intra_cat_sims = avg_category_similarities('../images/cbas34_train/{}/', base_cat, base_cat)\n",
    "print(\n",
    "    \"average '{}' intra-category similarity: {}\\n\".format(\n",
    "        base_cat\n",
    "        , np.average(intra_cat_sims)\n",
    "    ))\n",
    "\n",
    "for other_cat in other_cats: \n",
    "    print(\"Testing inter-category cosine similarities for '{}' vs '{}'...\"\\\n",
    "          .format(base_cat, other_cat))\n",
    "    inter_cat_sims = avg_category_similarities(\n",
    "        '../images/cbas34_train/{}/', base_cat, other_cat\n",
    "    )\n",
    "    print(\"average {} cos-similarity vs '{}': {}\\n\".format(\n",
    "        base_cat, other_cat, np.average(inter_cat_sims)\n",
    "    ))"
   ]
  },
  {
   "cell_type": "markdown",
   "metadata": {},
   "source": [
    "### What happens when we try embedding images from classes in the holdout set?\n",
    "\n",
    "In the preceding cells we did a sanity check to verify that embeddings made some kind of sense, but those were all embeddings the network was trained on. What about when we embed images for classes the network was not trained on? Let's try it out by doing similar comparisons for categories in the cbas-LS set (i.e., holdout set). "
   ]
  },
  {
   "cell_type": "code",
   "execution_count": 36,
   "metadata": {},
   "outputs": [
    {
     "name": "stdout",
     "output_type": "stream",
     "text": [
      "Testing intra-category cosine similarities for category:  mouse\n"
     ]
    },
    {
     "name": "stderr",
     "output_type": "stream",
     "text": [
      "/home/gbiamby/anaconda3/lib/python3.6/site-packages/ipykernel_launcher.py:39: UserWarning: src is not broadcastable to dst, but they have the same number of elements.  Falling back to deprecated pointwise behavior.\n"
     ]
    },
    {
     "name": "stdout",
     "output_type": "stream",
     "text": [
      "average 'mouse' intra-category similarity: 0.18886170259015633\n",
      "\n",
      "Testing inter-category cosine similarities for 'mouse' vs 'orange'...\n",
      "average mouse cos-similarity vs 'orange': 0.15418672954803334\n",
      "\n",
      "Testing inter-category cosine similarities for 'mouse' vs 'suitcase'...\n",
      "average mouse cos-similarity vs 'suitcase': 0.1660249532878399\n",
      "\n",
      "Testing inter-category cosine similarities for 'mouse' vs 'toilet'...\n",
      "average mouse cos-similarity vs 'toilet': 0.17293947569015436\n",
      "\n",
      "Testing inter-category cosine similarities for 'mouse' vs 'elephant'...\n",
      "average mouse cos-similarity vs 'elephant': 0.16750693448325618\n",
      "\n",
      "Testing inter-category cosine similarities for 'mouse' vs 'giraffe'...\n",
      "average mouse cos-similarity vs 'giraffe': 0.14247035264549776\n",
      "\n"
     ]
    }
   ],
   "source": [
    "base_cat = \"mouse\"\n",
    "other_cats = [\"orange\", \"suitcase\", \"toilet\", \"elephant\", \"giraffe\"]\n",
    "\n",
    "print(\"Testing intra-category cosine similarities for category: \", base_cat)\n",
    "intra_cat_sims = avg_category_similarities('../images/cbasLS_train/{}/', base_cat, base_cat)\n",
    "print(\n",
    "    \"average '{}' intra-category similarity: {}\\n\".format(\n",
    "        base_cat\n",
    "        , np.average(intra_cat_sims)\n",
    "    ))\n",
    "\n",
    "for other_cat in other_cats: \n",
    "    print(\"Testing inter-category cosine similarities for '{}' vs '{}'...\"\\\n",
    "          .format(base_cat, other_cat))\n",
    "    inter_cat_sims = avg_category_similarities(\n",
    "        '../images/cbasLS_train/{}/', base_cat, other_cat\n",
    "    )\n",
    "    print(\"average {} cos-similarity vs '{}': {}\\n\".format(\n",
    "        base_cat, other_cat, np.average(inter_cat_sims)\n",
    "    ))\n"
   ]
  },
  {
   "cell_type": "code",
   "execution_count": 41,
   "metadata": {},
   "outputs": [
    {
     "name": "stdout",
     "output_type": "stream",
     "text": [
      "Testing intra-category cosine similarities for category:  orange\n"
     ]
    },
    {
     "name": "stderr",
     "output_type": "stream",
     "text": [
      "/home/gbiamby/anaconda3/lib/python3.6/site-packages/ipykernel_launcher.py:39: UserWarning: src is not broadcastable to dst, but they have the same number of elements.  Falling back to deprecated pointwise behavior.\n"
     ]
    },
    {
     "name": "stdout",
     "output_type": "stream",
     "text": [
      "average 'orange' intra-category similarity: 0.28105616680681705\n",
      "\n",
      "Testing inter-category cosine similarities for 'orange' vs 'hotdog'...\n",
      "average orange cos-similarity vs 'hotdog': 0.23702849502190948\n",
      "\n",
      "Testing inter-category cosine similarities for 'orange' vs 'suitcase'...\n",
      "average orange cos-similarity vs 'suitcase': 0.11700026734277405\n",
      "\n",
      "Testing inter-category cosine similarities for 'orange' vs 'laptop'...\n",
      "average orange cos-similarity vs 'laptop': 0.1536182081213221\n",
      "\n",
      "Testing inter-category cosine similarities for 'orange' vs 'scissors'...\n",
      "average orange cos-similarity vs 'scissors': 0.1544955761956051\n",
      "\n",
      "Testing inter-category cosine similarities for 'orange' vs 'giraffe'...\n",
      "average orange cos-similarity vs 'giraffe': 0.11841108537558903\n",
      "\n"
     ]
    }
   ],
   "source": [
    "base_cat = \"orange\"\n",
    "other_cats = [\"hotdog\", \"suitcase\", \"laptop\", \"scissors\", \"giraffe\"]\n",
    "\n",
    "print(\"Testing intra-category cosine similarities for category: \", base_cat)\n",
    "intra_cat_sims = avg_category_similarities('../images/cbasLS_train/{}/', base_cat, base_cat)\n",
    "print(\n",
    "    \"average '{}' intra-category similarity: {}\\n\".format(\n",
    "        base_cat\n",
    "        , np.average(intra_cat_sims)\n",
    "    ))\n",
    "\n",
    "for other_cat in other_cats: \n",
    "    print(\"Testing inter-category cosine similarities for '{}' vs '{}'...\"\\\n",
    "          .format(base_cat, other_cat))\n",
    "    inter_cat_sims = avg_category_similarities(\n",
    "        '../images/cbasLS_train/{}/', base_cat, other_cat\n",
    "    )\n",
    "    print(\"average {} cos-similarity vs '{}': {}\\n\".format(\n",
    "        base_cat, other_cat, np.average(inter_cat_sims)\n",
    "    ))"
   ]
  },
  {
   "cell_type": "code",
   "execution_count": 42,
   "metadata": {},
   "outputs": [
    {
     "name": "stdout",
     "output_type": "stream",
     "text": [
      "Testing intra-category cosine similarities for category:  pizza\n"
     ]
    },
    {
     "name": "stderr",
     "output_type": "stream",
     "text": [
      "/home/gbiamby/anaconda3/lib/python3.6/site-packages/ipykernel_launcher.py:39: UserWarning: src is not broadcastable to dst, but they have the same number of elements.  Falling back to deprecated pointwise behavior.\n"
     ]
    },
    {
     "name": "stdout",
     "output_type": "stream",
     "text": [
      "average 'pizza' intra-category similarity: 0.23508656190410257\n",
      "\n",
      "Testing inter-category cosine similarities for 'pizza' vs 'hotdog'...\n",
      "average pizza cos-similarity vs 'hotdog': 0.23441241003302857\n",
      "\n",
      "Testing inter-category cosine similarities for 'pizza' vs 'remote'...\n",
      "average pizza cos-similarity vs 'remote': 0.16776690724510698\n",
      "\n",
      "Testing inter-category cosine similarities for 'pizza' vs 'laptop'...\n",
      "average pizza cos-similarity vs 'laptop': 0.16989592276755722\n",
      "\n",
      "Testing inter-category cosine similarities for 'pizza' vs 'stopsign'...\n",
      "average pizza cos-similarity vs 'stopsign': 0.14201583838420775\n",
      "\n",
      "Testing inter-category cosine similarities for 'pizza' vs 'giraffe'...\n",
      "average pizza cos-similarity vs 'giraffe': 0.14807520844760583\n",
      "\n"
     ]
    }
   ],
   "source": [
    "base_cat = \"pizza\"\n",
    "other_cats = [\"hotdog\", \"remote\", \"laptop\", \"stopsign\", \"giraffe\"]\n",
    "\n",
    "print(\"Testing intra-category cosine similarities for category: \", base_cat)\n",
    "intra_cat_sims = avg_category_similarities('../images/cbasLS_train/{}/', base_cat, base_cat)\n",
    "print(\n",
    "    \"average '{}' intra-category similarity: {}\\n\".format(\n",
    "        base_cat\n",
    "        , np.average(intra_cat_sims)\n",
    "    ))\n",
    "\n",
    "for other_cat in other_cats: \n",
    "    print(\"Testing inter-category cosine similarities for '{}' vs '{}'...\"\\\n",
    "          .format(base_cat, other_cat))\n",
    "    inter_cat_sims = avg_category_similarities(\n",
    "        '../images/cbasLS_train/{}/', base_cat, other_cat\n",
    "    )\n",
    "    print(\"average {} cos-similarity vs '{}': {}\\n\".format(\n",
    "        base_cat, other_cat, np.average(inter_cat_sims)\n",
    "    ))"
   ]
  },
  {
   "cell_type": "code",
   "execution_count": null,
   "metadata": {},
   "outputs": [],
   "source": []
  }
 ],
 "metadata": {
  "kernelspec": {
   "display_name": "Python 3",
   "language": "python",
   "name": "python3"
  },
  "language_info": {
   "codemirror_mode": {
    "name": "ipython",
    "version": 3
   },
   "file_extension": ".py",
   "mimetype": "text/x-python",
   "name": "python",
   "nbconvert_exporter": "python",
   "pygments_lexer": "ipython3",
   "version": "3.6.4"
  }
 },
 "nbformat": 4,
 "nbformat_minor": 2
}
