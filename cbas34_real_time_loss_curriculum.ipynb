{
 "cells": [
  {
   "cell_type": "code",
   "execution_count": 3,
   "metadata": {
    "collapsed": true
   },
   "outputs": [],
   "source": [
    "%matplotlib inline"
   ]
  },
  {
   "cell_type": "markdown",
   "metadata": {},
   "source": [
    "Copied/adapted this notebook from: <a href=http://pytorch.org/tutorials/beginner/blitz/cifar10_tutorial.html#sphx-glr-beginner-blitz-cifar10-tutorial-py> PyTorch: Training a Classifier on CIFAR-10</a>\n",
    "Training an image classifier\n",
    "----------------------------\n",
    "\n",
    "We will do the following steps in order:\n",
    "\n",
    "1. Load and normalizing the CBAS-36 training and test datasets using\n",
    "   ``torchvision``\n",
    "2. Define a Convolution Neural Network\n",
    "3. Define a loss function\n",
    "4. Train the network on the training data\n",
    "5. Test the network on the test data\n",
    "\n",
    "1. Loading and normalizing CBAS-36\n",
    "\n",
    "Using ``torchvision``, it’s extremely easy to load CBAS-36.\n",
    "\n"
   ]
  },
  {
   "cell_type": "code",
   "execution_count": 4,
   "metadata": {
    "collapsed": true
   },
   "outputs": [],
   "source": [
    "import torch\n",
    "import torchvision\n",
    "import torchvision.transforms as transforms"
   ]
  },
  {
   "cell_type": "code",
   "execution_count": 5,
   "metadata": {
    "collapsed": true
   },
   "outputs": [],
   "source": [
    "from torch.utils.data.sampler import Sampler\n",
    "class MySampler(Sampler):\n",
    "    def __init__(self, data_source):\n",
    "        self.data_source = data_source\n",
    "        self.random_list = None\n",
    "\n",
    "    def __iter__(self):\n",
    "        self.random_list = torch.randperm(len(self.data_source)).tolist()\n",
    "        return iter(self.random_list)\n",
    "    \n",
    "    def get_idx(self):\n",
    "        return self.random_list\n",
    "\n",
    "    def __len__(self):\n",
    "        return len(self.data_source)"
   ]
  },
  {
   "cell_type": "code",
   "execution_count": 6,
   "metadata": {
    "collapsed": false
   },
   "outputs": [],
   "source": [
    "IMAGENET_MEAN = [0.485, 0.456, 0.406]\n",
    "IMAGENET_STD = [0.229, 0.224, 0.225]\n",
    "\n",
    "transform = transforms.Compose([\n",
    "        transforms.ToTensor(),\n",
    "        transforms.Normalize(mean=IMAGENET_MEAN, std=IMAGENET_STD)\n",
    "    ])\n",
    "\n",
    "trainset = torchvision.datasets.ImageFolder(root='images/cbas34_train', transform=transform)\n",
    "\n",
    "# get index for curriculum sampling\n",
    "# id2idx = {}\n",
    "# for i,img in enumerate(trainset.imgs):\n",
    "#     img_id_str = img[0].split('/')[4].split('.')[0]\n",
    "#     id2idx[img_id_str] = i\n",
    "    \n",
    "\n",
    "my_sampler = MySampler(trainset) #TODO sample with replacement!\n",
    "trainloader = torch.utils.data.DataLoader(trainset, batch_size=4, shuffle=False, sampler=my_sampler, num_workers=4)\n",
    "\n",
    "testset = torchvision.datasets.ImageFolder(root='images/cbas34_val', transform=transform)\n",
    "testloader = torch.utils.data.DataLoader(testset, batch_size=4, shuffle=False, num_workers=2)\n",
    "\n",
    "classes = trainset.classes"
   ]
  },
  {
   "cell_type": "markdown",
   "metadata": {},
   "source": [
    "Let us show some of the training images, for fun.\n",
    "\n"
   ]
  },
  {
   "cell_type": "code",
   "execution_count": 7,
   "metadata": {
    "collapsed": false
   },
   "outputs": [
    {
     "name": "stdout",
     "output_type": "stream",
     "text": [
      "sheep person skateboard  vase\n"
     ]
    },
    {
     "data": {
      "image/png": "[encoded data removed]",
      "text/plain": [
       "<matplotlib.figure.Figure at 0x111db0400>"
      ]
     },
     "metadata": {},
     "output_type": "display_data"
    }
   ],
   "source": [
    "import matplotlib.pyplot as plt\n",
    "import numpy as np\n",
    "\n",
    "# functions to show an image\n",
    "def imshow(tensor):\n",
    "    for t, m, s in zip(tensor, IMAGENET_MEAN, IMAGENET_STD):\n",
    "            t.mul_(s).add_(m)     # unnormalize\n",
    "    npimg = tensor.numpy()\n",
    "    plt.imshow(np.transpose(npimg, (1, 2, 0)))\n",
    "\n",
    "# get some random training images\n",
    "dataiter = iter(trainloader)\n",
    "images, labels = dataiter.next()\n",
    "\n",
    "# show images\n",
    "imshow(torchvision.utils.make_grid(images))\n",
    "# print labels\n",
    "print(' '.join('%5s' % classes[labels[j]] for j in range(4)))"
   ]
  },
  {
   "cell_type": "markdown",
   "metadata": {},
   "source": [
    "2. Define a Convolution Neural Network\n",
    "^^^^^^^^^^^^^^^^^^^^^^^^^^^^^^^^^^^^^^\n",
    "Copy the neural network from the Neural Networks section before and modify it to\n",
    "take 3-channel images (instead of 1-channel images as it was defined).\n",
    "\n"
   ]
  },
  {
   "cell_type": "markdown",
   "metadata": {},
   "source": [
    "<img src=https://www.researchgate.net/profile/Vladimir_Golovko3/publication/313808170/figure/fig4/AS:552880910368768@1508828489761/Architecture-of-simplified-convolutional-neural-network.ppm>"
   ]
  },
  {
   "cell_type": "code",
   "execution_count": 8,
   "metadata": {
    "collapsed": true
   },
   "outputs": [],
   "source": [
    "from torch.autograd import Variable\n",
    "import torch.nn as nn\n",
    "import torch.nn.functional as F\n",
    "\n",
    "\n",
    "class LeNet(nn.Module):\n",
    "    def __init__(self):\n",
    "        super(LeNet, self).__init__()\n",
    "        self.conv1 = nn.Conv2d(3, 6, 5)\n",
    "        self.conv2 = nn.Conv2d(6, 16, 5)\n",
    "        self.fc1   = nn.Linear(16*5*5, 120)\n",
    "        self.fc2   = nn.Linear(120, 84)\n",
    "        self.fc3   = nn.Linear(84, 34)\n",
    "\n",
    "    def forward(self, x):\n",
    "        out = F.relu(self.conv1(x))\n",
    "        out = F.max_pool2d(out, 2)\n",
    "        out = F.relu(self.conv2(out))\n",
    "        out = F.max_pool2d(out, 2)\n",
    "        out = out.view(out.size(0), -1)\n",
    "        out = F.relu(self.fc1(out))\n",
    "        out = F.relu(self.fc2(out))\n",
    "        out = self.fc3(out)\n",
    "        return out\n",
    "\n",
    "\n"
   ]
  },
  {
   "cell_type": "markdown",
   "metadata": {},
   "source": [
    "3. Define a Loss function and optimizer\n",
    "^^^^^^^^^^^^^^^^^^^^^^^^^^^^^^^^^^^^^^^\n",
    "Let's use a Classification Cross-Entropy loss and SGD with momentum.\n",
    "\n"
   ]
  },
  {
   "cell_type": "code",
   "execution_count": 9,
   "metadata": {
    "collapsed": true
   },
   "outputs": [],
   "source": [
    "import torch.optim as optim"
   ]
  },
  {
   "cell_type": "markdown",
   "metadata": {},
   "source": [
    "4. Train the network\n",
    "^^^^^^^^^^^^^^^^^^^^\n",
    "\n",
    "This is when things start to get interesting.\n",
    "We simply have to loop over our data iterator, and feed the inputs to the\n",
    "network and optimize.\n",
    "\n"
   ]
  },
  {
   "cell_type": "code",
   "execution_count": 10,
   "metadata": {
    "collapsed": false
   },
   "outputs": [],
   "source": [
    "def normal_weights(losses, mu=None):\n",
    "    mu, var = mu if mu else np.mean(losses), np.var(losses)\n",
    "    return (1/(np.sqrt(np.pi*2*var)))*np.exp(-((losses-mu)**2)/(2*var))"
   ]
  },
  {
   "cell_type": "code",
   "execution_count": 11,
   "metadata": {
    "collapsed": false
   },
   "outputs": [
    {
     "name": "stdout",
     "output_type": "stream",
     "text": [
      "[1,  2000] loss: 3.480\n",
      "[1,  4000] loss: 3.328\n",
      "[1,  6000] loss: 3.261\n",
      "[1,  8000] loss: 3.198\n",
      "[1, 10000] loss: 3.108\n",
      "[1, 12000] loss: 3.063\n",
      "[2,  2000] loss: 3.029\n",
      "[2,  4000] loss: 3.029\n",
      "[2,  6000] loss: 2.972\n",
      "[2,  8000] loss: 2.951\n",
      "[2, 10000] loss: 2.948\n",
      "[2, 12000] loss: 2.952\n",
      "[3,  2000] loss: 2.905\n",
      "[3,  4000] loss: 2.901\n",
      "[3,  6000] loss: 2.910\n",
      "[3,  8000] loss: 2.901\n",
      "[3, 10000] loss: 2.892\n",
      "[3, 12000] loss: 2.871\n",
      "[4,  2000] loss: 2.830\n",
      "[4,  4000] loss: 2.847\n",
      "[4,  6000] loss: 2.825\n",
      "[4,  8000] loss: 2.832\n",
      "[4, 10000] loss: 2.831\n",
      "[4, 12000] loss: 2.847\n"
     ]
    }
   ],
   "source": [
    "def find_curriculum(num_epochs, loader, net, criterion, optimizer):\n",
    "    culmulative_orderings = None\n",
    "    for epoch in range(num_epochs):  # loop over the dataset multiple times\n",
    "        orderings = []\n",
    "        running_loss = 0.0\n",
    "        for i, data in enumerate(loader, 0):\n",
    "            # get the inputs\n",
    "            inputs, labels = data\n",
    "            \n",
    "            try:\n",
    "                numpy_labels = labels.numpy()\n",
    "            except:\n",
    "                numpy_labels = labels.data.numpy()\n",
    "            \n",
    "            # wrap them in Variable\n",
    "            inputs, labels = Variable(inputs), Variable(labels)\n",
    "\n",
    "            # zero the parameter gradients\n",
    "            optimizer.zero_grad()\n",
    "\n",
    "            # forward + backward + optimize\n",
    "            outputs = net(inputs)\n",
    "            if epoch == num_epochs-1:\n",
    "                try:\n",
    "                    numpy_outputs = outputs.numpy()\n",
    "                except:\n",
    "                    numpy_outputs = outputs.data.numpy()\n",
    "                log_probs = -np.log(np.exp(numpy_outputs) \n",
    "                                    / np.reshape(np.sum(np.exp(numpy_outputs), axis=1), (numpy_labels.shape[0], 1)))\n",
    "                orderings += log_probs[:, numpy_labels].tolist()[0]\n",
    "            \n",
    "            loss = criterion(outputs, labels)\n",
    "            loss.backward()\n",
    "            optimizer.step()\n",
    "            # print statistics\n",
    "            running_loss += loss.data[0]\n",
    "            if i % 2000 == 1999:    # print every 2000 mini-batches\n",
    "                print('[%d, %5d] loss: %.3f' %\n",
    "                      (epoch + 1, i + 1, running_loss / 2000))\n",
    "                running_loss = 0.0\n",
    "        idx = np.argsort(np.array(my_sampler.get_idx()))\n",
    "        if epoch == num_epochs-1:\n",
    "            culmulative_orderings = np.array(orderings)[idx]   \n",
    "        elif False:\n",
    "            culmulative_orderings += np.array(orderings)[idx]\n",
    "            \n",
    "    return culmulative_orderings\n",
    "\n",
    "net = LeNet()\n",
    "criterion = nn.CrossEntropyLoss()\n",
    "optimizer = optim.SGD(net.parameters(), lr=0.001, momentum=0.9)\n",
    "\n",
    "num_epochs = 4\n",
    "curr = find_curriculum(num_epochs, trainloader, net, criterion, optimizer)"
   ]
  },
  {
   "cell_type": "code",
   "execution_count": 12,
   "metadata": {
    "collapsed": true
   },
   "outputs": [],
   "source": [
    "def adjust_lr(optimizer):\n",
    "    for param_group in optimizer.param_groups:\n",
    "        param_group['lr'] /= 2"
   ]
  },
  {
   "cell_type": "code",
   "execution_count": 13,
   "metadata": {
    "collapsed": false
   },
   "outputs": [
    {
     "name": "stdout",
     "output_type": "stream",
     "text": [
      "epoch #1\n",
      " 2000 loss: 3.482\n",
      " 4000 loss: 3.233\n",
      " 6000 loss: 3.083\n",
      " 8000 loss: 2.957\n",
      "10000 loss: 2.909\n",
      "12000 loss: 2.825\n",
      "epoch #2\n",
      " 2000 loss: 2.965\n",
      " 4000 loss: 2.926\n",
      " 6000 loss: 2.912\n",
      " 8000 loss: 2.901\n",
      "10000 loss: 2.892\n",
      "12000 loss: 2.854\n",
      "epoch #3\n",
      " 2000 loss: 2.934\n",
      " 4000 loss: 2.931\n",
      " 6000 loss: 2.886\n",
      " 8000 loss: 2.883\n",
      "10000 loss: 2.865\n",
      "12000 loss: 2.849\n",
      "epoch #4\n",
      " 2000 loss: 2.844\n",
      " 4000 loss: 2.844\n",
      " 6000 loss: 2.800\n",
      " 8000 loss: 2.793\n",
      "10000 loss: 2.772\n",
      "12000 loss: 2.785\n",
      "Finished Training\n"
     ]
    }
   ],
   "source": [
    "def train_curriculum(loader, net, criterion, optimizer):\n",
    "    running_loss = 0.0\n",
    "    for i, data in enumerate(loader, 0):\n",
    "        # get the inputs\n",
    "        inputs, labels = data\n",
    "            \n",
    "        # wrap them in Variable\n",
    "        inputs, labels = Variable(inputs), Variable(labels)\n",
    "\n",
    "        # zero the parameter gradients\n",
    "        optimizer.zero_grad()\n",
    "\n",
    "        # forward + backward + optimize\n",
    "        outputs = net(inputs)\n",
    "\n",
    "        loss = criterion(outputs, labels)\n",
    "        loss.backward()\n",
    "        optimizer.step()\n",
    "        # print statistics\n",
    "        running_loss += loss.data[0]\n",
    "        if i % 2000 == 1999:    # print every 2000 mini-batches\n",
    "            print('%5d loss: %.3f' % (i + 1, running_loss / 2000))\n",
    "            running_loss = 0.0\n",
    "\n",
    "from torch.utils.data.sampler import WeightedRandomSampler as W_Sampler\n",
    "\n",
    "curr_net = LeNet()\n",
    "curr_criterion = nn.CrossEntropyLoss()\n",
    "curr_optimizer = optim.SGD(curr_net.parameters(), lr=0.001, momentum=0.9)\n",
    "num_samples = curr.shape[0]\n",
    "\n",
    "epoch_counter = 0\n",
    "for deviation in np.arange(-2.0, 2, 1):\n",
    "    epoch_counter += 1\n",
    "    print(\"epoch #%d\" % epoch_counter)\n",
    "    weights = normal_weights(curr, np.mean(curr) + deviation*np.std(curr))\n",
    "    weights = weights/ np.sum(weights)\n",
    "    sampler = W_Sampler(weights, num_samples, replacement=True)\n",
    "    curriculum_loader = torch.utils.data.DataLoader(trainset, batch_size=4, shuffle=False, sampler=sampler, num_workers=4)\n",
    "    train_curriculum(curriculum_loader, curr_net, curr_criterion, curr_optimizer)\n",
    "    \n",
    "print('Finished Training')"
   ]
  },
  {
   "cell_type": "code",
   "execution_count": 14,
   "metadata": {
    "collapsed": false
   },
   "outputs": [],
   "source": [
    "from torch import Tensor\n",
    "\n",
    "class MyWeightedSampler(Sampler):\n",
    "   \n",
    "    def __init__(self, weights, num_samples, replacement=True):\n",
    "        self.weights = torch.DoubleTensor(weights)\n",
    "        self.num_samples = num_samples\n",
    "        self.replacement = replacement\n",
    "        self.random_list = None\n",
    "\n",
    "    def __iter__(self):\n",
    "        ret = torch.multinomial(self.weights, self.num_samples, self.replacement)\n",
    "        self.random_list = ret.numpy().tolist()\n",
    "        return iter(ret)\n",
    "\n",
    "    def get_idx(self):\n",
    "        return self.random_list\n",
    "    \n",
    "    def __len__(self):\n",
    "        return self.num_samples"
   ]
  },
  {
   "cell_type": "code",
   "execution_count": 15,
   "metadata": {
    "collapsed": false
   },
   "outputs": [
    {
     "name": "stdout",
     "output_type": "stream",
     "text": [
      "epoch #1\n",
      " 2000 loss: 3.479\n",
      " 4000 loss: 3.295\n",
      " 6000 loss: 3.212\n",
      " 8000 loss: 3.165\n",
      "10000 loss: 3.112\n",
      "12000 loss: 3.078\n",
      "epoch #2\n",
      " 2000 loss: 3.002\n",
      " 4000 loss: 2.990\n",
      " 6000 loss: 2.940\n",
      " 8000 loss: 2.905\n",
      "10000 loss: 2.893\n",
      "12000 loss: 2.850\n",
      "epoch #3\n",
      " 2000 loss: 2.896\n",
      " 4000 loss: 2.870\n",
      " 6000 loss: 2.878\n",
      " 8000 loss: 2.858\n",
      "10000 loss: 2.830\n",
      "12000 loss: 2.849\n",
      "epoch #4\n",
      " 2000 loss: 2.809\n",
      " 4000 loss: 2.738\n",
      " 6000 loss: 2.779\n",
      " 8000 loss: 2.719\n",
      "10000 loss: 2.723\n",
      "12000 loss: 2.716\n"
     ]
    }
   ],
   "source": [
    "def real_time_curriculum(sampler, loader, net, criterion, optimizer):\n",
    "    orderings = []\n",
    "    running_loss = 0.0\n",
    "    for i, data in enumerate(loader, 0):\n",
    "        # get the inputs\n",
    "        inputs, labels = data\n",
    "\n",
    "        try:\n",
    "            numpy_labels = labels.numpy()\n",
    "        except:\n",
    "            numpy_labels = labels.data.numpy()\n",
    "\n",
    "        # wrap them in Variable\n",
    "        inputs, labels = Variable(inputs), Variable(labels)\n",
    "\n",
    "        # zero the parameter gradients\n",
    "        optimizer.zero_grad()\n",
    "\n",
    "        # forward + backward + optimize\n",
    "        outputs = net(inputs)\n",
    "        try:\n",
    "            numpy_outputs = outputs.numpy()\n",
    "        except:\n",
    "            numpy_outputs = outputs.data.numpy()\n",
    "        log_probs = -np.log(np.exp(numpy_outputs) \n",
    "                            / np.reshape(np.sum(np.exp(numpy_outputs), axis=1), (numpy_labels.shape[0], 1)))\n",
    "        orderings += log_probs[:, numpy_labels].tolist()[0]\n",
    "\n",
    "        loss = criterion(outputs, labels)\n",
    "        loss.backward()\n",
    "        optimizer.step()\n",
    "        # print statistics\n",
    "        running_loss += loss.data[0]\n",
    "        if i % 2000 == 1999:    # print every 2000 mini-batches\n",
    "            print('%5d loss: %.3f' %\n",
    "                  (i + 1, running_loss / 2000))\n",
    "            running_loss = 0.0\n",
    "    idx = np.argsort(np.array(sampler.get_idx()))\n",
    "    culmulative_orderings = np.array(orderings)[idx] \n",
    "    return culmulative_orderings\n",
    "\n",
    "real_time_net = LeNet()\n",
    "real_time_criterion = nn.CrossEntropyLoss()\n",
    "real_time_optimizer = optim.SGD(real_time_net.parameters(), lr=0.001, momentum=0.9)\n",
    "\n",
    "print(\"epoch #1\")\n",
    "real_time_curr = \\\n",
    "    real_time_curriculum(my_sampler, trainloader, real_time_net, real_time_criterion, real_time_optimizer)\n",
    "#adjust_lr(real_time_optimizer)\n",
    "epoch = 1\n",
    "\n",
    "for deviation in np.arange(-1.0, 2, 1):\n",
    "    epoch += 1\n",
    "    print(\"epoch #%d\" % epoch)\n",
    "    weights = normal_weights(real_time_curr, np.mean(real_time_curr) + deviation*np.std(real_time_curr))\n",
    "    weights = weights / np.sum(weights)\n",
    "    sampler = MyWeightedSampler(weights, num_samples, replacement=True)\n",
    "    real_time_curriculum_loader = \\\n",
    "    torch.utils.data.DataLoader(trainset, batch_size=4, shuffle=False, sampler=sampler, num_workers=4)\n",
    "    real_time_curr = \\\n",
    "    real_time_curriculum(sampler, real_time_curriculum_loader, real_time_net, real_time_criterion, real_time_optimizer)\n",
    "#     if epoch % 3 == 0:\n",
    "#         adjust_lr(real_time_optimizer)"
   ]
  },
  {
   "cell_type": "markdown",
   "metadata": {},
   "source": [
    "5. Test the network on the test data\n",
    "\n",
    "We have trained the network for 2 passes over the training dataset.\n",
    "But we need to check if the network has learnt anything at all.\n",
    "\n",
    "We will check this by predicting the class label that the neural network\n",
    "outputs, and checking it against the ground-truth. If the prediction is\n",
    "correct, we add the sample to the list of correct predictions.\n",
    "\n",
    "Okay, first step. Let us display an image from the test set to get familiar.\n",
    "\n"
   ]
  },
  {
   "cell_type": "code",
   "execution_count": 16,
   "metadata": {
    "collapsed": false
   },
   "outputs": [
    {
     "name": "stdout",
     "output_type": "stream",
     "text": [
      "GroundTruth:  airplane airplane airplane airplane\n"
     ]
    },
    {
     "data": {
      "image/png": "[encoded data removed]",
      "text/plain": [
       "<matplotlib.figure.Figure at 0x111da1d68>"
      ]
     },
     "metadata": {},
     "output_type": "display_data"
    }
   ],
   "source": [
    "dataiter = iter(testloader)\n",
    "images, labels = dataiter.next()\n",
    "\n",
    "# print images\n",
    "imshow(torchvision.utils.make_grid(images))\n",
    "print('GroundTruth: ', ' '.join('%5s' % classes[labels[j]] for j in range(4)))"
   ]
  },
  {
   "cell_type": "markdown",
   "metadata": {},
   "source": [
    "Okay, now let us see what the neural network thinks these examples above are:\n",
    "\n"
   ]
  },
  {
   "cell_type": "code",
   "execution_count": 17,
   "metadata": {
    "collapsed": false
   },
   "outputs": [],
   "source": [
    "outputs = net(Variable(images))\n",
    "curr_outputs = curr_net(Variable(images))\n",
    "real_time_outputs = real_time_net(Variable(images))"
   ]
  },
  {
   "cell_type": "markdown",
   "metadata": {},
   "source": [
    "The outputs are energies for the 10 classes.\n",
    "Higher the energy for a class, the more the network\n",
    "thinks that the image is of the particular class.\n",
    "So, let's get the index of the highest energy:\n",
    "\n"
   ]
  },
  {
   "cell_type": "code",
   "execution_count": 18,
   "metadata": {
    "collapsed": false
   },
   "outputs": [
    {
     "name": "stdout",
     "output_type": "stream",
     "text": [
      "(Non-curriculum) Predicted:  bench  kite knife airplane\n",
      "(Curriculum) Predicted:  truck  kite  boat airplane\n",
      "(Real Time Curriculum) Predicted:  bench  sink tennisracket airplane\n"
     ]
    }
   ],
   "source": [
    "_, predicted = torch.max(outputs.data, 1)\n",
    "\n",
    "print('(Non-curriculum) Predicted: ', ' '.join('%5s' % classes[predicted[j]]\n",
    "                              for j in range(4)))\n",
    "\n",
    "_, predicted = torch.max(curr_outputs.data, 1)\n",
    "\n",
    "print('(Curriculum) Predicted: ', ' '.join('%5s' % classes[predicted[j]]\n",
    "                              for j in range(4)))\n",
    "\n",
    "_, predicted = torch.max(real_time_outputs.data, 1)\n",
    "\n",
    "print('(Real Time Curriculum) Predicted: ', ' '.join('%5s' % classes[predicted[j]]\n",
    "                              for j in range(4)))"
   ]
  },
  {
   "cell_type": "markdown",
   "metadata": {},
   "source": [
    "The results seem pretty good.\n",
    "\n",
    "Let us look at how the network performs on the whole dataset.\n",
    "\n"
   ]
  },
  {
   "cell_type": "code",
   "execution_count": 19,
   "metadata": {
    "collapsed": false
   },
   "outputs": [
    {
     "name": "stdout",
     "output_type": "stream",
     "text": [
      "(Non-curriculum) Accuracy of the network on the 3744 test images: 20 %\n",
      "(Curriculum) Accuracy of the network on the 3744 test images: 19 %\n",
      "(Real Time Curriculum) Accuracy of the network on the 3744 test images: 19 %\n"
     ]
    }
   ],
   "source": [
    "correct = 0\n",
    "total = 0\n",
    "for data in testloader:\n",
    "    images, labels = data\n",
    "    outputs = net(Variable(images))\n",
    "    _, predicted = torch.max(outputs.data, 1)\n",
    "    total += labels.size(0)\n",
    "    correct += (predicted == labels).sum()\n",
    "\n",
    "print('(Non-curriculum) Accuracy of the network on the 3744 test images: %d %%' % (\n",
    "    100 * correct / total))\n",
    "\n",
    "correct = 0\n",
    "total = 0\n",
    "for data in testloader:\n",
    "    images, labels = data\n",
    "    curr_outputs = curr_net(Variable(images))\n",
    "    _, predicted = torch.max(curr_outputs.data, 1)\n",
    "    total += labels.size(0)\n",
    "    correct += (predicted == labels).sum()\n",
    "\n",
    "print('(Curriculum) Accuracy of the network on the 3744 test images: %d %%' % (\n",
    "    100 * correct / total))\n",
    "\n",
    "correct = 0\n",
    "total = 0\n",
    "for data in testloader:\n",
    "    images, labels = data\n",
    "    real_time_outputs = real_time_net(Variable(images))\n",
    "    _, predicted = torch.max(real_time_outputs.data, 1)\n",
    "    total += labels.size(0)\n",
    "    correct += (predicted == labels).sum()\n",
    "\n",
    "print('(Real Time Curriculum) Accuracy of the network on the 3744 test images: %d %%' % (\n",
    "    100 * correct / total))"
   ]
  },
  {
   "cell_type": "markdown",
   "metadata": {},
   "source": [
    "That looks waaay better than chance, which is 2.7% accuracy (randomly picking\n",
    "a class out of 36 classes).\n",
    "Seems like the network learnt something.\n",
    "\n",
    "Hmmm, what are the classes that performed well, and the classes that did\n",
    "not perform well:\n",
    "\n"
   ]
  },
  {
   "cell_type": "code",
   "execution_count": 20,
   "metadata": {
    "collapsed": false
   },
   "outputs": [
    {
     "name": "stdout",
     "output_type": "stream",
     "text": [
      "(Non-curriculum) Accuracy of airplane : 50 %\n",
      "(Non-curriculum) Accuracy of backpack : 37 %\n",
      "(Non-curriculum) Accuracy of banana : 48 %\n",
      "(Non-curriculum) Accuracy of bench : 23 %\n",
      "(Non-curriculum) Accuracy of bicycle :  3 %\n",
      "(Non-curriculum) Accuracy of  bird :  6 %\n",
      "(Non-curriculum) Accuracy of  boat : 10 %\n",
      "(Non-curriculum) Accuracy of  book : 15 %\n",
      "(Non-curriculum) Accuracy of bottle :  3 %\n",
      "(Non-curriculum) Accuracy of  bowl :  2 %\n",
      "(Non-curriculum) Accuracy of   car : 10 %\n",
      "(Non-curriculum) Accuracy of carrot : 67 %\n",
      "(Non-curriculum) Accuracy of chair :  7 %\n",
      "(Non-curriculum) Accuracy of clock : 45 %\n",
      "(Non-curriculum) Accuracy of   cow :  5 %\n",
      "(Non-curriculum) Accuracy of   cup : 12 %\n",
      "(Non-curriculum) Accuracy of donut : 13 %\n",
      "(Non-curriculum) Accuracy of  fork :  3 %\n",
      "(Non-curriculum) Accuracy of handbag :  1 %\n",
      "(Non-curriculum) Accuracy of horse : 31 %\n",
      "(Non-curriculum) Accuracy of  kite : 45 %\n",
      "(Non-curriculum) Accuracy of knife : 28 %\n",
      "(Non-curriculum) Accuracy of person :  1 %\n",
      "(Non-curriculum) Accuracy of pottedplant : 10 %\n",
      "(Non-curriculum) Accuracy of sheep : 40 %\n",
      "(Non-curriculum) Accuracy of  sink : 23 %\n",
      "(Non-curriculum) Accuracy of skateboard : 34 %\n",
      "(Non-curriculum) Accuracy of spoon :  0 %\n",
      "(Non-curriculum) Accuracy of surfboard : 22 %\n",
      "(Non-curriculum) Accuracy of tennisracket : 15 %\n",
      "(Non-curriculum) Accuracy of trafficlight : 32 %\n",
      "(Non-curriculum) Accuracy of truck : 20 %\n",
      "(Non-curriculum) Accuracy of umbrella : 10 %\n",
      "(Non-curriculum) Accuracy of  vase :  5 %\n",
      "(Curriculum) Accuracy of airplane : 40 %\n",
      "(Curriculum) Accuracy of backpack : 16 %\n",
      "(Curriculum) Accuracy of banana : 32 %\n",
      "(Curriculum) Accuracy of bench : 10 %\n",
      "(Curriculum) Accuracy of bicycle : 19 %\n",
      "(Curriculum) Accuracy of  bird :  2 %\n",
      "(Curriculum) Accuracy of  boat : 15 %\n",
      "(Curriculum) Accuracy of  book :  6 %\n",
      "(Curriculum) Accuracy of bottle :  5 %\n",
      "(Curriculum) Accuracy of  bowl :  0 %\n",
      "(Curriculum) Accuracy of   car : 11 %\n",
      "(Curriculum) Accuracy of carrot : 48 %\n",
      "(Curriculum) Accuracy of chair :  6 %\n",
      "(Curriculum) Accuracy of clock : 48 %\n",
      "(Curriculum) Accuracy of   cow :  9 %\n",
      "(Curriculum) Accuracy of   cup :  8 %\n",
      "(Curriculum) Accuracy of donut : 28 %\n",
      "(Curriculum) Accuracy of  fork : 15 %\n",
      "(Curriculum) Accuracy of handbag : 11 %\n",
      "(Curriculum) Accuracy of horse : 31 %\n",
      "(Curriculum) Accuracy of  kite : 55 %\n",
      "(Curriculum) Accuracy of knife :  2 %\n",
      "(Curriculum) Accuracy of person :  8 %\n",
      "(Curriculum) Accuracy of pottedplant : 16 %\n",
      "(Curriculum) Accuracy of sheep : 46 %\n",
      "(Curriculum) Accuracy of  sink : 22 %\n",
      "(Curriculum) Accuracy of skateboard : 29 %\n",
      "(Curriculum) Accuracy of spoon : 16 %\n",
      "(Curriculum) Accuracy of surfboard : 24 %\n",
      "(Curriculum) Accuracy of tennisracket :  9 %\n",
      "(Curriculum) Accuracy of trafficlight : 38 %\n",
      "(Curriculum) Accuracy of truck : 16 %\n",
      "(Curriculum) Accuracy of umbrella :  6 %\n",
      "(Curriculum) Accuracy of  vase :  6 %\n",
      "(Real Time Curriculum) Accuracy of airplane : 48 %\n",
      "(Real Time Curriculum) Accuracy of backpack :  6 %\n",
      "(Real Time Curriculum) Accuracy of banana : 25 %\n",
      "(Real Time Curriculum) Accuracy of bench :  9 %\n",
      "(Real Time Curriculum) Accuracy of bicycle :  8 %\n",
      "(Real Time Curriculum) Accuracy of  bird :  1 %\n",
      "(Real Time Curriculum) Accuracy of  boat :  6 %\n",
      "(Real Time Curriculum) Accuracy of  book :  5 %\n",
      "(Real Time Curriculum) Accuracy of bottle :  5 %\n",
      "(Real Time Curriculum) Accuracy of  bowl :  6 %\n",
      "(Real Time Curriculum) Accuracy of   car : 14 %\n",
      "(Real Time Curriculum) Accuracy of carrot : 58 %\n",
      "(Real Time Curriculum) Accuracy of chair :  6 %\n",
      "(Real Time Curriculum) Accuracy of clock : 46 %\n",
      "(Real Time Curriculum) Accuracy of   cow : 13 %\n",
      "(Real Time Curriculum) Accuracy of   cup :  4 %\n",
      "(Real Time Curriculum) Accuracy of donut : 26 %\n",
      "(Real Time Curriculum) Accuracy of  fork : 14 %\n",
      "(Real Time Curriculum) Accuracy of handbag : 28 %\n",
      "(Real Time Curriculum) Accuracy of horse : 31 %\n",
      "(Real Time Curriculum) Accuracy of  kite : 43 %\n",
      "(Real Time Curriculum) Accuracy of knife : 12 %\n",
      "(Real Time Curriculum) Accuracy of person : 10 %\n",
      "(Real Time Curriculum) Accuracy of pottedplant : 18 %\n",
      "(Real Time Curriculum) Accuracy of sheep : 21 %\n",
      "(Real Time Curriculum) Accuracy of  sink : 42 %\n",
      "(Real Time Curriculum) Accuracy of skateboard : 27 %\n",
      "(Real Time Curriculum) Accuracy of spoon :  6 %\n",
      "(Real Time Curriculum) Accuracy of surfboard : 23 %\n",
      "(Real Time Curriculum) Accuracy of tennisracket : 13 %\n",
      "(Real Time Curriculum) Accuracy of trafficlight : 45 %\n",
      "(Real Time Curriculum) Accuracy of truck : 20 %\n",
      "(Real Time Curriculum) Accuracy of umbrella : 15 %\n",
      "(Real Time Curriculum) Accuracy of  vase : 11 %\n"
     ]
    }
   ],
   "source": [
    "class_correct = list(0. for i in range(34))\n",
    "class_total = list(0. for i in range(34))\n",
    "for data in testloader:\n",
    "    images, labels = data\n",
    "    outputs = net(Variable(images))\n",
    "    _, predicted = torch.max(outputs.data, 1)\n",
    "    c = (predicted == labels).squeeze()\n",
    "    for i in range(4):\n",
    "        label = labels[i]\n",
    "        class_correct[label] += c[i]\n",
    "        class_total[label] += 1\n",
    "\n",
    "\n",
    "for i in range(34):\n",
    "    print('(Non-curriculum) Accuracy of %5s : %2d %%' % (\n",
    "        classes[i], 100 * class_correct[i] / class_total[i]))\n",
    "    \n",
    "class_correct = list(0. for i in range(34))\n",
    "class_total = list(0. for i in range(34))\n",
    "for data in testloader:\n",
    "    images, labels = data\n",
    "    curr_outputs = curr_net(Variable(images))\n",
    "    _, predicted = torch.max(curr_outputs.data, 1)\n",
    "    c = (predicted == labels).squeeze()\n",
    "    for i in range(4):\n",
    "        label = labels[i]\n",
    "        class_correct[label] += c[i]\n",
    "        class_total[label] += 1\n",
    "\n",
    "\n",
    "for i in range(34):\n",
    "    print('(Curriculum) Accuracy of %5s : %2d %%' % (\n",
    "        classes[i], 100 * class_correct[i] / class_total[i]))\n",
    "    \n",
    "class_correct = list(0. for i in range(34))\n",
    "class_total = list(0. for i in range(34))\n",
    "for data in testloader:\n",
    "    images, labels = data\n",
    "    real_time_outputs = real_time_net(Variable(images))\n",
    "    _, predicted = torch.max(real_time_outputs.data, 1)\n",
    "    c = (predicted == labels).squeeze()\n",
    "    for i in range(4):\n",
    "        label = labels[i]\n",
    "        class_correct[label] += c[i]\n",
    "        class_total[label] += 1\n",
    "\n",
    "\n",
    "for i in range(34):\n",
    "    print('(Real Time Curriculum) Accuracy of %5s : %2d %%' % (\n",
    "        classes[i], 100 * class_correct[i] / class_total[i]))"
   ]
  },
  {
   "cell_type": "markdown",
   "metadata": {},
   "source": [
    "Okay, so what next?\n",
    "\n",
    "How do we run these neural networks on the GPU?\n",
    "\n",
    "Training on GPU\n",
    "----------------\n",
    "Just like how you transfer a Tensor on to the GPU, you transfer the neural\n",
    "net onto the GPU.\n",
    "This will recursively go over all modules and convert their parameters and\n",
    "buffers to CUDA tensors:\n",
    "\n",
    ".. code:: python\n",
    "\n",
    "    net.cuda()\n",
    "\n",
    "\n",
    "Remember that you will have to send the inputs and targets at every step\n",
    "to the GPU too:\n",
    "\n",
    "::\n",
    "\n",
    "        inputs, labels = Variable(inputs.cuda()), Variable(labels.cuda())\n",
    "\n",
    "Why dont I notice MASSIVE speedup compared to CPU? Because your network\n",
    "is realllly small.\n",
    "\n",
    "**Exercise:** Try increasing the width of your network (argument 2 of\n",
    "the first ``nn.Conv2d``, and argument 1 of the second ``nn.Conv2d`` –\n",
    "they need to be the same number), see what kind of speedup you get.\n"
   ]
  },
  {
   "cell_type": "code",
   "execution_count": null,
   "metadata": {
    "collapsed": true
   },
   "outputs": [],
   "source": []
  }
 ],
 "metadata": {
  "kernelspec": {
   "display_name": "Python 3",
   "language": "python",
   "name": "python3"
  },
  "language_info": {
   "codemirror_mode": {
    "name": "ipython",
    "version": 3
   },
   "file_extension": ".py",
   "mimetype": "text/x-python",
   "name": "python",
   "nbconvert_exporter": "python",
   "pygments_lexer": "ipython3",
   "version": "3.6.2"
  }
 },
 "nbformat": 4,
 "nbformat_minor": 1
}
